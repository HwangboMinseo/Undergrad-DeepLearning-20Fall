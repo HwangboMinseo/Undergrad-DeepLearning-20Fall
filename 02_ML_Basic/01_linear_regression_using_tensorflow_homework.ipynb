{
 "cells": [
  {
   "cell_type": "markdown",
   "metadata": {
    "id": "3KMmeVm7wTxb"
   },
   "source": [
    "**라이브러리 Import 하기**"
   ]
  },
  {
   "cell_type": "code",
   "execution_count": 1,
   "metadata": {
    "colab": {
     "base_uri": "https://localhost:8080/",
     "height": 91
    },
    "id": "QvArkFgSw1Qb",
    "outputId": "60db7a3b-ccb6-44e0-f0ea-10835f8f274a"
   },
   "outputs": [
    {
     "name": "stdout",
     "output_type": "stream",
     "text": [
      "WARNING:tensorflow:From /usr/local/lib/python3.6/dist-packages/tensorflow/python/compat/v2_compat.py:96: disable_resource_variables (from tensorflow.python.ops.variable_scope) is deprecated and will be removed in a future version.\n",
      "Instructions for updating:\n",
      "non-resource variables are not supported in the long term\n"
     ]
    }
   ],
   "source": [
    "#import tensorflow as tf\n",
    "import tensorflow.compat.v1 as tf\n",
    "tf.disable_v2_behavior()\n",
    "import numpy as np\n",
    "import matplotlib.pyplot as plt"
   ]
  },
  {
   "cell_type": "markdown",
   "metadata": {
    "id": "QQnOHmQwwp2w"
   },
   "source": [
    "**X and Y data(given)**"
   ]
  },
  {
   "cell_type": "code",
   "execution_count": 2,
   "metadata": {
    "id": "8UNfZzR_vQFm"
   },
   "outputs": [],
   "source": [
    "x_train = [1, 2, 3, 4, 5]\n",
    "y_train = [5+0.1, 8-0.53, 11+0.61, 14-0.33, 17+0.49]\n",
    "# 정답은 y=3x+2\n",
    "#signal_length = len(x_train)\n",
    "#y_noise = np.random.normal(0, 1, signal_length)#평균이 0이고 표준편차가 1인 signal_length개의 데이터\n",
    "#y_train = y_train + y_noise"
   ]
  },
  {
   "cell_type": "code",
   "execution_count": 3,
   "metadata": {
    "colab": {
     "base_uri": "https://localhost:8080/",
     "height": 286
    },
    "id": "EegCQG17wu1Z",
    "outputId": "3360ce80-68c1-44c9-97c0-dee64ee4d6c3"
   },
   "outputs": [
    {
     "data": {
      "text/plain": [
       "[<matplotlib.lines.Line2D at 0x7f38b4a1b940>]"
      ]
     },
     "execution_count": 3,
     "metadata": {
      "tags": []
     },
     "output_type": "execute_result"
    },
    {
     "data": {
      "image/png": "[encoded data removed]",
      "text/plain": [
       "<Figure size 432x288 with 1 Axes>"
      ]
     },
     "metadata": {
      "needs_background": "light",
      "tags": []
     },
     "output_type": "display_data"
    }
   ],
   "source": [
    "plt.plot(x_train, y_train, '.-')"
   ]
  },
  {
   "cell_type": "markdown",
   "metadata": {
    "id": "YOkTW2MNx-nQ"
   },
   "source": [
    "**Initialization**"
   ]
  },
  {
   "cell_type": "code",
   "execution_count": 4,
   "metadata": {
    "id": "NC-uwCfs7Xyn"
   },
   "outputs": [],
   "source": [
    "useRandom = False"
   ]
  },
  {
   "cell_type": "code",
   "execution_count": 5,
   "metadata": {
    "id": "877JVdEbx5Bi"
   },
   "outputs": [],
   "source": [
    "if useRandom : \n",
    "  W = tf.Variable(tf.random_normal([1]), name='weight')\n",
    "  b = tf.Variable(tf.random_normal([1]), name='bias')\n",
    "  \n",
    "else:\n",
    "  w0 = 100;\n",
    "  b0 = -100;\n",
    "  W = tf.Variable(w0*tf.ones([1]), name='weight')\n",
    "  b = tf.Variable(b0*tf.ones([1]), name='bias')\n",
    "  \n",
    "\n",
    "\n"
   ]
  },
  {
   "cell_type": "markdown",
   "metadata": {
    "id": "bVW9FW9GyTjZ"
   },
   "source": [
    "**Our hypothesis**\n",
    "$$ H(x) = Wx + b $$\n",
    "가설의 모양은 선"
   ]
  },
  {
   "cell_type": "code",
   "execution_count": 6,
   "metadata": {
    "id": "t4160WYKyXuU"
   },
   "outputs": [],
   "source": [
    "hypothesis = x_train * W + b"
   ]
  },
  {
   "cell_type": "markdown",
   "metadata": {
    "id": "smuSl98my21V"
   },
   "source": [
    "W와 b는 컴퓨터가 맞추는 것"
   ]
  },
  {
   "cell_type": "markdown",
   "metadata": {
    "id": "bIh1Z4LVzF0O"
   },
   "source": [
    "**cost/loss function 정의하기**\n",
    "* loss of one training example"
   ]
  },
  {
   "cell_type": "code",
   "execution_count": 7,
   "metadata": {
    "id": "oL3IatjGysqv"
   },
   "outputs": [],
   "source": [
    "loss = tf.reduce_mean(tf.square(hypothesis - y_train))"
   ]
  },
  {
   "cell_type": "markdown",
   "metadata": {
    "id": "WQBGq-fLzzGq"
   },
   "source": [
    "**Optimizer**\n",
    "* W를 맞추는 것을 계산함"
   ]
  },
  {
   "cell_type": "code",
   "execution_count": 8,
   "metadata": {
    "id": "Gov-yNF3zyK2"
   },
   "outputs": [],
   "source": [
    "optimizer = tf.train.GradientDescentOptimizer(learning_rate=0.01)\n",
    "train = optimizer.minimize(loss) #optimizer에게 loss 최소화하라고 함"
   ]
  },
  {
   "cell_type": "markdown",
   "metadata": {
    "id": "hoU-t-v_0btX"
   },
   "source": [
    "**Launch the graph in a session**"
   ]
  },
  {
   "cell_type": "code",
   "execution_count": 9,
   "metadata": {
    "id": "4av1UVSr0Nxh"
   },
   "outputs": [],
   "source": [
    "sess = tf.Session()"
   ]
  },
  {
   "cell_type": "markdown",
   "metadata": {
    "id": "M5Shj5fG0piY"
   },
   "source": [
    "**Initializes global variables in the graph**"
   ]
  },
  {
   "cell_type": "code",
   "execution_count": 10,
   "metadata": {
    "id": "SIzr4XlR0jvF"
   },
   "outputs": [],
   "source": [
    "sess.run(tf.global_variables_initializer()) #초기화"
   ]
  },
  {
   "cell_type": "code",
   "execution_count": 11,
   "metadata": {
    "colab": {
     "base_uri": "https://localhost:8080/",
     "height": 305
    },
    "id": "OuLThNfJ023l",
    "outputId": "cb890994-1a52-4c77-f723-a0608ab7e5ef"
   },
   "outputs": [
    {
     "name": "stdout",
     "output_type": "stream",
     "text": [
      "0 \t 32811.79 \t 84.788 \t -103.77864\n",
      "200 \t 665.78296 \t 19.847664 \t -58.697605\n",
      "400 \t 171.92502 \t 11.606284 \t -28.943605\n",
      "600 \t 44.494495 \t 7.419933 \t -13.829549\n",
      "800 \t 11.6134405 \t 5.293401 \t -6.1520925\n",
      "1000 \t 3.1291175 \t 4.2131915 \t -2.2521956\n",
      "1200 \t 0.93990076 \t 3.664481 \t -0.27117613\n",
      "1400 \t 0.37501532 \t 3.3857539 \t 0.73511696\n",
      "1600 \t 0.22925727 \t 3.2441697 \t 1.2462814\n",
      "1800 \t 0.1916473 \t 3.1722493 \t 1.5059358\n",
      "2000 \t 0.18194285 \t 3.1357162 \t 1.6378323\n",
      "2200 \t 0.1794388 \t 3.1171587 \t 1.7048309\n",
      "2400 \t 0.1787926 \t 3.107732 \t 1.738864\n",
      "2600 \t 0.17862591 \t 3.1029434 \t 1.7561525\n",
      "2800 \t 0.17858292 \t 3.1005113 \t 1.7649333\n",
      "3000 \t 0.17857182 \t 3.0992763 \t 1.7693931\n"
     ]
    }
   ],
   "source": [
    "nb_epoch = 3001 # 반복\n",
    "vloss = []\n",
    "vb = []\n",
    "vw = []\n",
    "for step in range(nb_epoch):\n",
    "    sess.run(train) #train은 optimizer로 loss최소화하는 것 \n",
    "    loss1 = sess.run(loss)\n",
    "    w1 = sess.run(W)[0] # 기울기\n",
    "    b1 = sess.run(b)[0] # bias  \n",
    "    \n",
    "    vloss.append(loss1)\n",
    "    vb.append(b1)\n",
    "    vw.append(w1)\n",
    "\n",
    "    #찍어보기\n",
    "    if step % 200 == 0: # 200번마다\n",
    "          print(step,'\\t',loss1,'\\t', w1,'\\t', b1)"
   ]
  },
  {
   "cell_type": "code",
   "execution_count": 12,
   "metadata": {
    "colab": {
     "base_uri": "https://localhost:8080/",
     "height": 297
    },
    "id": "Dfd5cIXf1gUb",
    "outputId": "dd262873-af23-4bbc-d266-09757882cccf"
   },
   "outputs": [
    {
     "data": {
      "text/plain": [
       "Text(0, 0.5, 'loss')"
      ]
     },
     "execution_count": 12,
     "metadata": {
      "tags": []
     },
     "output_type": "execute_result"
    },
    {
     "data": {
      "image/png": "[encoded data removed]",
      "text/plain": [
       "<Figure size 432x288 with 1 Axes>"
      ]
     },
     "metadata": {
      "needs_background": "light",
      "tags": []
     },
     "output_type": "display_data"
    }
   ],
   "source": [
    "plt.plot(vloss)\n",
    "plt.xlabel('epoch')\n",
    "plt.ylabel('loss')"
   ]
  },
  {
   "cell_type": "markdown",
   "metadata": {
    "id": "O4YRvlrD8YrV"
   },
   "source": [
    "TODO : w, b의 epoch에 따른 변화 그래프 넣기"
   ]
  },
  {
   "cell_type": "code",
   "execution_count": 13,
   "metadata": {
    "colab": {
     "base_uri": "https://localhost:8080/",
     "height": 297
    },
    "id": "uL5Sl9SMBB9k",
    "outputId": "0c331aa5-6527-41aa-97d7-0c287b70e29a"
   },
   "outputs": [
    {
     "data": {
      "text/plain": [
       "Text(0, 0.5, 'b')"
      ]
     },
     "execution_count": 13,
     "metadata": {
      "tags": []
     },
     "output_type": "execute_result"
    },
    {
     "data": {
      "image/png": "[encoded data removed]",
      "text/plain": [
       "<Figure size 432x288 with 1 Axes>"
      ]
     },
     "metadata": {
      "needs_background": "light",
      "tags": []
     },
     "output_type": "display_data"
    }
   ],
   "source": [
    "plt.plot(vb)\n",
    "plt.xlabel('epoch')\n",
    "plt.ylabel('b')"
   ]
  },
  {
   "cell_type": "code",
   "execution_count": 14,
   "metadata": {
    "colab": {
     "base_uri": "https://localhost:8080/",
     "height": 297
    },
    "id": "Y4O_lRHkBKZj",
    "outputId": "e992605f-958e-4a9f-a08c-dd060b13d5b3"
   },
   "outputs": [
    {
     "data": {
      "text/plain": [
       "Text(0, 0.5, 'W')"
      ]
     },
     "execution_count": 14,
     "metadata": {
      "tags": []
     },
     "output_type": "execute_result"
    },
    {
     "data": {
      "image/png": "[encoded data removed]",
      "text/plain": [
       "<Figure size 432x288 with 1 Axes>"
      ]
     },
     "metadata": {
      "needs_background": "light",
      "tags": []
     },
     "output_type": "display_data"
    }
   ],
   "source": [
    "plt.plot(vw)\n",
    "plt.xlabel('epoch')\n",
    "plt.ylabel('W')"
   ]
  },
  {
   "cell_type": "markdown",
   "metadata": {
    "id": "DxsZAG1z38PM"
   },
   "source": [
    "**학습완료**"
   ]
  },
  {
   "cell_type": "code",
   "execution_count": 15,
   "metadata": {
    "id": "Z2IbQ0qm2mNb"
   },
   "outputs": [],
   "source": [
    "w1 = sess.run(W)[0] #기울기\n",
    "b1 = sess.run(b)[0] #bias"
   ]
  },
  {
   "cell_type": "markdown",
   "metadata": {
    "id": "iqrQVnFA4MyL"
   },
   "source": [
    "출력해보기"
   ]
  },
  {
   "cell_type": "code",
   "execution_count": 16,
   "metadata": {
    "colab": {
     "base_uri": "https://localhost:8080/",
     "height": 35
    },
    "id": "J700HRwz4LKq",
    "outputId": "6eb1326e-5f6a-44c5-a2ca-62b4c24497b6"
   },
   "outputs": [
    {
     "name": "stdout",
     "output_type": "stream",
     "text": [
      "3.0992763 1.7693931\n"
     ]
    }
   ],
   "source": [
    "print(w1, b1)"
   ]
  },
  {
   "cell_type": "code",
   "execution_count": 17,
   "metadata": {
    "colab": {
     "base_uri": "https://localhost:8080/",
     "height": 35
    },
    "id": "I_tD7v164Rap",
    "outputId": "fd98b72e-b15d-4513-a5a0-5631039f9ee8"
   },
   "outputs": [
    {
     "name": "stdout",
     "output_type": "stream",
     "text": [
      "y = 3.0992763x + 1.7693931\n"
     ]
    }
   ],
   "source": [
    "str1 = 'y = ' + str(w1) +'x + ' + str(b1)\n",
    "print(str1)"
   ]
  },
  {
   "cell_type": "code",
   "execution_count": 19,
   "metadata": {
    "colab": {
     "base_uri": "https://localhost:8080/",
     "height": 517
    },
    "id": "mM3l_lu64YNj",
    "outputId": "1ada0a01-a24d-4d3f-8ab5-7eb14cfee8fe"
   },
   "outputs": [
    {
     "data": {
      "text/plain": [
       "Text(0.5, 1.0, 'y = 3.0992763x + 1.7693931')"
      ]
     },
     "execution_count": 19,
     "metadata": {
      "tags": []
     },
     "output_type": "execute_result"
    },
    {
     "data": {
      "image/png": "[encoded data removed]",
      "text/plain": [
       "<Figure size 720x576 with 1 Axes>"
      ]
     },
     "metadata": {
      "needs_background": "light",
      "tags": []
     },
     "output_type": "display_data"
    }
   ],
   "source": [
    "plt.figure(figsize=(10,8)) # figsize를 바꾸어보세요\n",
    "plt.plot(x_train, y_train,'o') #train data 그리기\n",
    "\n",
    "# 직선 그래프를 그리기 위한 코드\n",
    "# 그래프의 x좌표를 일정 간격으로 설정함\n",
    "x1 = np.linspace(np.min(x_train)-1, np.max(x_train)+1)\n",
    "y1 = w1*x1 + b1\n",
    "plt.plot(x1, y1)\n",
    "\n",
    "plt.grid() # 격자\n",
    "#plt.axis((np.min(x_train) - 1, np.max(x_train) + 1, np.min(y_train) - 1, np.max(y_train) + 1))\n",
    "plt.title(str1)"
   ]
  },
  {
   "cell_type": "markdown",
   "metadata": {
    "id": "E3W9RHyv5zxT"
   },
   "source": [
    "### **스스로 해보기**"
   ]
  },
  {
   "cell_type": "markdown",
   "metadata": {
    "id": "ZU93PWwk52yi"
   },
   "source": [
    "아래 부분을 수정해서 처음부터 다시 진행해보기 바랍니다.\n",
    "\n",
    "* 예1) 노이즈를 다르게 준다  \n",
    " \n",
    "  x_train = [1, 2, 3]  \n",
    "  \\\\ y_train = [2+0.1, 4-0.3, 6+0.15] # 약간의 noise 추가\n",
    "* 예2) 데이터의 갯수를 지금은 네 개의 점으로 했으나 더 늘려서도 해본다.  \n",
    "\n",
    "* 예3) 데이터의 모델을 현재는 y=2x+0 으로 해서 만들었으나, 바꾸어본다.  \n",
    " \n",
    " y=3x-5   \n",
    "  y=1.2x + 3  \n",
    "\n",
    "* 예4) 초기값인 w0, b0를 다르게 설정해본다.  \n",
    " \n",
    "  w0 = 7.0;  \n",
    "  b0 = 5.0;  "
   ]
  }
 ],
 "metadata": {
  "colab": {
   "collapsed_sections": [],
   "name": "01_linear_regression_using_tensorflow",
   "provenance": []
  },
  "kernelspec": {
   "display_name": "Python 3",
   "language": "python",
   "name": "python3"
  },
  "language_info": {
   "codemirror_mode": {
    "name": "ipython",
    "version": 3
   },
   "file_extension": ".py",
   "mimetype": "text/x-python",
   "name": "python",
   "nbconvert_exporter": "python",
   "pygments_lexer": "ipython3",
   "version": "3.6.9"
  }
 },
 "nbformat": 4,
 "nbformat_minor": 1
}
